{
  "nbformat": 4,
  "nbformat_minor": 0,
  "metadata": {
    "colab": {
      "provenance": [],
      "authorship_tag": "ABX9TyN8XxPWkP40RFkWYdDyCeV8",
      "include_colab_link": true
    },
    "kernelspec": {
      "name": "python3",
      "display_name": "Python 3"
    },
    "language_info": {
      "name": "python"
    }
  },
  "cells": [
    {
      "cell_type": "markdown",
      "metadata": {
        "id": "view-in-github",
        "colab_type": "text"
      },
      "source": [
        "<a href=\"https://colab.research.google.com/github/FDMasangkay/CPE-031-VDA-CPE-21S4/blob/main/Exercise2.ipynb\" target=\"_parent\"><img src=\"https://colab.research.google.com/assets/colab-badge.svg\" alt=\"Open In Colab\"/></a>"
      ]
    },
    {
      "cell_type": "markdown",
      "source": [
        "### Example 1"
      ],
      "metadata": {
        "id": "2xFBW0oQyji4"
      }
    },
    {
      "cell_type": "code",
      "source": [
        "import pandas\n",
        "\n",
        "mydataset = {\n",
        "'animals': [\"Cat\", \"Dog\", \"Rabbit\"],\n",
        "'height': [13, 17, 8]\n",
        "}\n",
        "\n",
        "myvar = pandas.DataFrame(mydataset)\n",
        "\n",
        "print(myvar)"
      ],
      "metadata": {
        "colab": {
          "base_uri": "https://localhost:8080/"
        },
        "id": "OZdAWa18vTGh",
        "outputId": "fe86e3d6-2a4a-481f-880f-5d4982dff7aa"
      },
      "execution_count": null,
      "outputs": [
        {
          "output_type": "stream",
          "name": "stdout",
          "text": [
            "  animals  height\n",
            "0     Cat      13\n",
            "1     Dog      17\n",
            "2  Rabbit       8\n"
          ]
        }
      ]
    },
    {
      "cell_type": "markdown",
      "source": [
        "### Example 2"
      ],
      "metadata": {
        "id": "SZRuoCv02yip"
      }
    },
    {
      "cell_type": "code",
      "source": [
        "import pandas as pd\n",
        "\n",
        "a = [1, 7, 2]\n",
        "\n",
        "myvar = pd.Series(a)\n",
        "\n",
        "print(myvar)"
      ],
      "metadata": {
        "colab": {
          "base_uri": "https://localhost:8080/"
        },
        "id": "dpDCzEJq21DZ",
        "outputId": "1eeecb9b-a8d6-44dc-f79d-6e651eca5e61"
      },
      "execution_count": 6,
      "outputs": [
        {
          "output_type": "stream",
          "name": "stdout",
          "text": [
            "0    1\n",
            "1    7\n",
            "2    2\n",
            "dtype: int64\n"
          ]
        }
      ]
    },
    {
      "cell_type": "markdown",
      "source": [
        "### Example 3"
      ],
      "metadata": {
        "id": "bwupBbEB8D3K"
      }
    },
    {
      "cell_type": "code",
      "source": [
        "import pandas as pd\n",
        "\n",
        "data = {\n",
        "    \"age\": [42, 38, 39],\n",
        "    \"weight\": [50, 40, 45]}\n",
        "\n",
        "myvar = pd.DataFrame(data)\n",
        "\n",
        "print(myvar)"
      ],
      "metadata": {
        "id": "RQkZLivJ8HFD",
        "outputId": "0b95439b-08ab-402f-95f8-b5c7cbb7bb91",
        "colab": {
          "base_uri": "https://localhost:8080/"
        }
      },
      "execution_count": 9,
      "outputs": [
        {
          "output_type": "stream",
          "name": "stdout",
          "text": [
            "   age  weight\n",
            "0   42      50\n",
            "1   38      40\n",
            "2   39      45\n"
          ]
        }
      ]
    },
    {
      "cell_type": "markdown",
      "source": [
        "### Example 4"
      ],
      "metadata": {
        "id": "hszx7NXM-l0T"
      }
    },
    {
      "cell_type": "code",
      "source": [
        "import pandas as pd\n",
        "\n",
        "data = {\n",
        "\"age\": [42, 38, 39],\n",
        "\"weight\":[50,40,45]\n",
        "}\n",
        "\n",
        "myvar=pd.DataFrame(data)\n",
        "\n",
        "print(myvar.loc[[0,1,2]])"
      ],
      "metadata": {
        "id": "RPTykTwo-ous",
        "outputId": "31118ec4-6df3-4e0c-f95a-202c625c8c49",
        "colab": {
          "base_uri": "https://localhost:8080/"
        }
      },
      "execution_count": 14,
      "outputs": [
        {
          "output_type": "stream",
          "name": "stdout",
          "text": [
            "   age  weight\n",
            "0   42      50\n",
            "1   38      40\n",
            "2   39      45\n"
          ]
        }
      ]
    }
  ]
}