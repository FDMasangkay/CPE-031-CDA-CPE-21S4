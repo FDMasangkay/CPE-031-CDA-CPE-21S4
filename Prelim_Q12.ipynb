{
  "nbformat": 4,
  "nbformat_minor": 0,
  "metadata": {
    "colab": {
      "provenance": [],
      "authorship_tag": "ABX9TyNNMcYFsn6gwtSwHwz592NH",
      "include_colab_link": true
    },
    "kernelspec": {
      "name": "python3",
      "display_name": "Python 3"
    },
    "language_info": {
      "name": "python"
    }
  },
  "cells": [
    {
      "cell_type": "markdown",
      "metadata": {
        "id": "view-in-github",
        "colab_type": "text"
      },
      "source": [
        "<a href=\"https://colab.research.google.com/github/FDMasangkay/CPE-031-VDA-CPE-21S4/blob/main/Prelim_Q12.ipynb\" target=\"_parent\"><img src=\"https://colab.research.google.com/assets/colab-badge.svg\" alt=\"Open In Colab\"/></a>"
      ]
    },
    {
      "cell_type": "code",
      "execution_count": 17,
      "metadata": {
        "colab": {
          "base_uri": "https://localhost:8080/"
        },
        "id": "E9XsOoLwDgJc",
        "outputId": "818707b8-1c88-4700-8a3f-c0f5d3d7da92"
      },
      "outputs": [
        {
          "output_type": "stream",
          "name": "stdout",
          "text": [
            "   col1  col2  col3\n",
            "0     1     4     7\n",
            "1     4     5     8\n",
            "2     3     6     9\n",
            "3     4     7     0\n",
            "4     5     8     1\n",
            "   col1  col2  col3\n",
            "0     1     4     7\n",
            "2     3     6     9\n",
            "3     4     7     0\n",
            "4     5     8     1\n"
          ]
        }
      ],
      "source": [
        "import pandas as pd\n",
        "\n",
        "origFrame = {\n",
        "    'col1':[1, 4, 3, 4, 5],\n",
        "    'col2':[4, 5, 6, 7, 8],\n",
        "    'col3':[7, 8, 9, 0, 1]\n",
        "}\n",
        "\n",
        "var = pd.DataFrame(origFrame)\n",
        "print(var)\n",
        "\n",
        "newFrame = var.drop(index = [1])\n",
        "print(newFrame)"
      ]
    }
  ]
}