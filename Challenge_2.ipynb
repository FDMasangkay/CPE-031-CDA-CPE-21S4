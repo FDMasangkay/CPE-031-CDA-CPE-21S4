{
  "nbformat": 4,
  "nbformat_minor": 0,
  "metadata": {
    "colab": {
      "provenance": [],
      "authorship_tag": "ABX9TyOUe2vyQtgI1xoThJZlTK2R",
      "include_colab_link": true
    },
    "kernelspec": {
      "name": "python3",
      "display_name": "Python 3"
    },
    "language_info": {
      "name": "python"
    }
  },
  "cells": [
    {
      "cell_type": "markdown",
      "metadata": {
        "id": "view-in-github",
        "colab_type": "text"
      },
      "source": [
        "<a href=\"https://colab.research.google.com/github/FDMasangkay/CPE-031-VDA-CPE-21S4/blob/main/Challenge_2.ipynb\" target=\"_parent\"><img src=\"https://colab.research.google.com/assets/colab-badge.svg\" alt=\"Open In Colab\"/></a>"
      ]
    },
    {
      "cell_type": "markdown",
      "source": [
        "# Challenge 2!\n",
        "### Coin Flip"
      ],
      "metadata": {
        "id": "1uXQQ28BPeQ_"
      }
    },
    {
      "cell_type": "code",
      "execution_count": 11,
      "metadata": {
        "colab": {
          "base_uri": "https://localhost:8080/"
        },
        "id": "OciDZKstPQhd",
        "outputId": "4535266f-e189-463f-da05-546edc0bfc6e"
      },
      "outputs": [
        {
          "output_type": "stream",
          "name": "stdout",
          "text": [
            "How many times to flip? 2\n",
            "[1, 0]\n"
          ]
        }
      ],
      "source": [
        "import numpy as np\n",
        "\n",
        "def coin_flip(n):\n",
        "    n = int(input(\"How many times to flip? \"))\n",
        "    return np.random.randint(0, 2, n)\n",
        "\n",
        "print ([var for var in coin_flip(n)])"
      ]
    }
  ]
}